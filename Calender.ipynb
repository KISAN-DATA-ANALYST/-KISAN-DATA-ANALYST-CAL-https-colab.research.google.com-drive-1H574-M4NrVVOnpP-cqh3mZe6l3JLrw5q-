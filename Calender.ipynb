{
  "nbformat": 4,
  "nbformat_minor": 0,
  "metadata": {
    "colab": {
      "provenance": [],
      "authorship_tag": "ABX9TyOs4jlV3MBVQ4AYA8kqgYPH",
      "include_colab_link": true
    },
    "kernelspec": {
      "name": "python3",
      "display_name": "Python 3"
    },
    "language_info": {
      "name": "python"
    }
  },
  "cells": [
    {
      "cell_type": "markdown",
      "metadata": {
        "id": "view-in-github",
        "colab_type": "text"
      },
      "source": [
        "<a href=\"https://colab.research.google.com/github/KISAN-DATA-ANALYST/-KISAN-DATA-ANALYST-CAL-https-colab.research.google.com-drive-1H574-M4NrVVOnpP-cqh3mZe6l3JLrw5q-/blob/main/Calender.ipynb\" target=\"_parent\"><img src=\"https://colab.research.google.com/assets/colab-badge.svg\" alt=\"Open In Colab\"/></a>"
      ]
    },
    {
      "cell_type": "code",
      "source": [
        "from tkinter import *\n",
        "import calendar\n",
        "\n",
        "def showCalender():\n",
        "    gui = Tk()\n",
        "    gui.config(background='grey')\n",
        "    gui.title(\"Calender for the year\")\n",
        "    gui.geometry(\"550x600\")\n",
        "    year = int(2021)\n",
        "    gui_content= calendar.calendar(year)\n",
        "    calYear = Label(gui, text= gui_content, font= \"Consolas 10 bold\")\n",
        "    calYear.grid(row=5, column=1,padx=20)\n",
        "    gui.mainloop()\n",
        "\n",
        "    if __name__=='__main__':\n",
        "      Tk().config(background='grey')\n",
        "\n",
        "    Exit = Button(Tk(), text=\"Exit\", bg='Red',\n",
        "    command=exit)\n",
        "    Tk().title(\"Calender\")\n",
        "    Tk().geometry(\"250x140\")\n",
        "    cal = Label(Tk(), text=\"Calender\",bg='grey',font=(\"times\", 28, \"bold\"))\n",
        "    year = Label(Tk(), text=\"Enter year\", bg='dark grey')\n",
        "    year_field=Entry(Tk())\n",
        "    button = Button(Tk(), text='Show Calender',\n",
        "fg='Black',bg='Blue',command=showCalender)\n",
        "\n",
        "\n",
        "    cal.grid(row=1, column=1)\n",
        "    year.grid(row=2, column=1)\n",
        "    year_field.grid(row=3, column=1)\n",
        "    button.grid(row=4, column=1)\n",
        "    Exit.grid(row=6, column=1)\n",
        "    Tk().mainloop()\n"
      ],
      "metadata": {
        "id": "MDTTKPC2x0qW"
      },
      "execution_count": 1,
      "outputs": []
    }
  ]
}